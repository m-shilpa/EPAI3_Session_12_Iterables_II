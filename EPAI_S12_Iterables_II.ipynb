{
  "nbformat": 4,
  "nbformat_minor": 0,
  "metadata": {
    "colab": {
      "name": "EPAI S12 Iterables II.ipynb",
      "provenance": [],
      "authorship_tag": "ABX9TyNBBKKy2jHEobdNzh3QDDa9",
      "include_colab_link": true
    },
    "kernelspec": {
      "name": "python3",
      "display_name": "Python 3"
    },
    "language_info": {
      "name": "python"
    }
  },
  "cells": [
    {
      "cell_type": "markdown",
      "metadata": {
        "id": "view-in-github",
        "colab_type": "text"
      },
      "source": [
        "<a href=\"https://colab.research.google.com/github/m-shilpa/EPAI3_Session_12_Iterables_II/blob/main/EPAI_S12_Iterables_II.ipynb\" target=\"_parent\"><img src=\"https://colab.research.google.com/assets/colab-badge.svg\" alt=\"Open In Colab\"/></a>"
      ]
    },
    {
      "cell_type": "markdown",
      "metadata": {
        "id": "ginEdekg8ief"
      },
      "source": [
        "# **Iterables**"
      ]
    },
    {
      "cell_type": "code",
      "metadata": {
        "id": "5m8YgXi-0S0F"
      },
      "source": [
        "def test_polygon():\n",
        "    abs_tol = 0.001\n",
        "    rel_tol = 0.001\n",
        "    \n",
        "    try:\n",
        "        p = Polygon(2, 10)\n",
        "        assert False, ('Creating a Polygon with 2 sides: '\n",
        "                       ' Exception expected, not received')\n",
        "    except ValueError:\n",
        "        pass\n",
        "                       \n",
        "    n = 3\n",
        "    R = 1\n",
        "    p = Polygon(n, R)\n",
        "    assert str(p) == 'Polygon(n=3, R=1)', f'actual: {str(p)}'\n",
        "    assert p.count_vertices == n, (f'actual: {p.count_vertices},'\n",
        "                                   f' expected: {n}')\n",
        "    assert p.count_edges == n, f'actual: {p.count_edges}, expected: {n}'\n",
        "    assert p.circumradius == R, f'actual: {p.circumradius}, expected: {n}'\n",
        "    assert p.interior_angle == 60, (f'actual: {p.interior_angle},'\n",
        "                                    ' expected: 60')\n",
        "    n = 4\n",
        "    R = 1\n",
        "    p = Polygon(n, R)\n",
        "    assert p.interior_angle == 90, (f'actual: {p.interior_angle}, '\n",
        "                                    ' expected: 90')\n",
        "    assert math.isclose(p.area, 2, \n",
        "                        rel_tol=abs_tol, \n",
        "                        abs_tol=abs_tol), (f'actual: {p.area},'\n",
        "                                           ' expected: 2.0')\n",
        "    \n",
        "    assert math.isclose(p.side_length, math.sqrt(2),\n",
        "                       rel_tol=rel_tol,\n",
        "                       abs_tol=abs_tol), (f'actual: {p.side_length},'\n",
        "                                          f' expected: {math.sqrt(2)}')\n",
        "    \n",
        "    assert math.isclose(p.perimeter, 4 * math.sqrt(2),\n",
        "                       rel_tol=rel_tol,\n",
        "                       abs_tol=abs_tol), (f'actual: {p.perimeter},'\n",
        "                                          f' expected: {4 * math.sqrt(2)}')\n",
        "    \n",
        "    assert math.isclose(p.apothem, 0.707,\n",
        "                       rel_tol=rel_tol,\n",
        "                       abs_tol=abs_tol), (f'actual: {p.perimeter},'\n",
        "                                          ' expected: 0.707')\n",
        "    p = Polygon(6, 2)\n",
        "    assert math.isclose(p.side_length, 2,\n",
        "                        rel_tol=rel_tol, abs_tol=abs_tol)\n",
        "    assert math.isclose(p.apothem, 1.73205,\n",
        "                        rel_tol=rel_tol, abs_tol=abs_tol)\n",
        "    assert math.isclose(p.area, 10.3923,\n",
        "                        rel_tol=rel_tol, abs_tol=abs_tol)\n",
        "    assert math.isclose(p.perimeter, 12,\n",
        "                        rel_tol=rel_tol, abs_tol=abs_tol)\n",
        "    assert math.isclose(p.interior_angle, 120,\n",
        "                        rel_tol=rel_tol, abs_tol=abs_tol)\n",
        "    \n",
        "    p = Polygon(12, 3)\n",
        "    assert math.isclose(p.side_length, 1.55291,\n",
        "                        rel_tol=rel_tol, abs_tol=abs_tol)\n",
        "    assert math.isclose(p.apothem, 2.89778,\n",
        "                        rel_tol=rel_tol, abs_tol=abs_tol)\n",
        "    assert math.isclose(p.area, 27,\n",
        "                        rel_tol=rel_tol, abs_tol=abs_tol)\n",
        "    assert math.isclose(p.perimeter, 18.635,\n",
        "                        rel_tol=rel_tol, abs_tol=abs_tol)\n",
        "    assert math.isclose(p.interior_angle, 150,\n",
        "                        rel_tol=rel_tol, abs_tol=abs_tol)\n",
        "    \n",
        "    p1 = Polygon(3, 10)\n",
        "    p2 = Polygon(10, 10)\n",
        "    p3 = Polygon(15, 10)\n",
        "    p4 = Polygon(15, 100)\n",
        "    p5 = Polygon(15, 100)\n",
        "    \n",
        "    assert p2 > p1\n",
        "    assert p2 < p3\n",
        "    assert p3 != p4\n",
        "    assert p1 != p4\n",
        "    assert p4 == p5\n",
        "\n"
      ],
      "execution_count": 1,
      "outputs": []
    },
    {
      "cell_type": "code",
      "metadata": {
        "id": "yoQa74I52EQh"
      },
      "source": [
        "import math\n",
        "\n",
        "class Polygon:\n",
        "    def __init__(self, n, R):\n",
        "        if n < 3:\n",
        "            raise ValueError('Polygon must have at least 3 vertices.')\n",
        "        self._n = n\n",
        "        self._R = R\n",
        "        self._apothem = None\n",
        "        self._ia = None\n",
        "        self._l = None\n",
        "        self._area = None\n",
        "        self._perimeter = None\n",
        "        \n",
        "    def __repr__(self):\n",
        "        return f'Polygon(n={self._n}, R={self._R})'\n",
        "    \n",
        "    @property\n",
        "    def count_vertices(self):\n",
        "        return self._n\n",
        "    \n",
        "    @property\n",
        "    def count_edges(self):\n",
        "        return self._n\n",
        "    \n",
        "    @property\n",
        "    def circumradius(self):\n",
        "        return self._R\n",
        "    \n",
        "    @property\n",
        "    def interior_angle(self):\n",
        "        if self._ia == None:\n",
        "            self._ia = (self._n - 2) * 180 / self._n\n",
        "        return self._ia\n",
        "\n",
        "    @property\n",
        "    def side_length(self):\n",
        "        if self._l == None:\n",
        "            self._l = 2 * self._R * math.sin(math.pi / self._n)\n",
        "        return self._l\n",
        "    \n",
        "    @property\n",
        "    def apothem(self):\n",
        "        if self._apothem ==None:\n",
        "            self._apothem = self._R * math.cos(math.pi / self._n)\n",
        "        return self._apothem\n",
        "\n",
        "    @property\n",
        "    def area(self):\n",
        "        if self._area == None:\n",
        "            self._area = self._n / 2 * self.side_length * self.apothem\n",
        "        return self._area\n",
        "\n",
        "    @property\n",
        "    def perimeter(self):\n",
        "        if self._perimeter == None:\n",
        "            self._perimeter = self._n * self.side_length\n",
        "        return self._perimeter\n",
        "    \n",
        "    def __eq__(self, other):\n",
        "        if isinstance(other, self.__class__):\n",
        "            return (self.count_edges == other.count_edges \n",
        "                    and self.circumradius == other.circumradius)\n",
        "        else:\n",
        "            return NotImplemented\n",
        "        \n",
        "    def __gt__(self, other):\n",
        "        if isinstance(other, self.__class__):\n",
        "            return self.count_vertices > other.count_vertices\n",
        "        else:\n",
        "            return NotImplemented"
      ],
      "execution_count": 2,
      "outputs": []
    },
    {
      "cell_type": "code",
      "metadata": {
        "colab": {
          "base_uri": "https://localhost:8080/"
        },
        "id": "8augH7np2j4w",
        "outputId": "bcf1ea0b-fe8b-4625-b21b-6bb5a40a702e"
      },
      "source": [
        "a = Polygon(3,3)\n",
        "a"
      ],
      "execution_count": 3,
      "outputs": [
        {
          "output_type": "execute_result",
          "data": {
            "text/plain": [
              "Polygon(n=3, R=3)"
            ]
          },
          "metadata": {
            "tags": []
          },
          "execution_count": 3
        }
      ]
    },
    {
      "cell_type": "code",
      "metadata": {
        "colab": {
          "base_uri": "https://localhost:8080/"
        },
        "id": "C3akOUi56TMJ",
        "outputId": "838ad358-a8b4-44af-a7c5-f5f735dcb4c2"
      },
      "source": [
        "a.area"
      ],
      "execution_count": 4,
      "outputs": [
        {
          "output_type": "execute_result",
          "data": {
            "text/plain": [
              "11.691342951089926"
            ]
          },
          "metadata": {
            "tags": []
          },
          "execution_count": 4
        }
      ]
    },
    {
      "cell_type": "code",
      "metadata": {
        "id": "p4qNJXnD7euP"
      },
      "source": [
        "class Polygon_sequence:\n",
        "    def __init__(self, m, R):\n",
        "        if m < 3:\n",
        "            raise ValueError('m must be greater than 3')\n",
        "        self._m = m\n",
        "        self._R = R\n",
        "        self._max_effi_polygon = None\n",
        "        \n",
        "    def __len__(self):\n",
        "        return self._m - 2\n",
        "    \n",
        "    def __repr__(self):\n",
        "        return f'Polygons(m={self._m}, R={self._R})'\n",
        "    \n",
        "    def __iter__(self):\n",
        "        # print(\"Polygons __iter__ called\")\n",
        "        return self.PolygonIter(self._m ,self._R)\n",
        "    \n",
        "    @property\n",
        "    def max_efficiency_polygon(self):\n",
        "        if self._max_effi_polygon == None:\n",
        "            sorted_polygons= sorted(list(Polygon_sequence(self._m,self._R)), \n",
        "                                    key=lambda p: p.area/p.perimeter,\n",
        "                                    reverse=True)\n",
        "            \n",
        "            self._max_effi_polygon = sorted_polygons[0]\n",
        "                                    \n",
        "        return self._max_effi_polygon\n",
        "\n",
        "    class PolygonIter:\n",
        "        def __init__(self,n,R):\n",
        "            self._n = n\n",
        "            self._R = R\n",
        "            self._i  = 3\n",
        "\n",
        "        # def __iter__(self):\n",
        "        #     return self\n",
        "\n",
        "        def __next__(self):\n",
        "            # print(\"PolygonIter __next__ called\")\n",
        "            if self._i > self._n:\n",
        "                raise StopIteration\n",
        "            else:\n",
        "                result = Polygon(self._i, self._R)\n",
        "                self._i +=1\n",
        "                return result"
      ],
      "execution_count": 5,
      "outputs": []
    },
    {
      "cell_type": "code",
      "metadata": {
        "id": "CMBtD1ZU8MnJ"
      },
      "source": [
        "b = Polygon_sequence(4,3)"
      ],
      "execution_count": 6,
      "outputs": []
    },
    {
      "cell_type": "code",
      "metadata": {
        "colab": {
          "base_uri": "https://localhost:8080/"
        },
        "id": "m9aBaB8VB3m4",
        "outputId": "cd49e60c-9ce8-44ea-9ff5-fb2e54fe7cd7"
      },
      "source": [
        "len(b)"
      ],
      "execution_count": 7,
      "outputs": [
        {
          "output_type": "execute_result",
          "data": {
            "text/plain": [
              "2"
            ]
          },
          "metadata": {
            "tags": []
          },
          "execution_count": 7
        }
      ]
    },
    {
      "cell_type": "code",
      "metadata": {
        "colab": {
          "base_uri": "https://localhost:8080/"
        },
        "id": "QGSnNL_48RLc",
        "outputId": "a51da809-8089-4288-d8a9-49b8ae7e8c2f"
      },
      "source": [
        "for i in b:\n",
        "    print(i)"
      ],
      "execution_count": 8,
      "outputs": [
        {
          "output_type": "stream",
          "text": [
            "Polygon(n=3, R=3)\n",
            "Polygon(n=4, R=3)\n"
          ],
          "name": "stdout"
        }
      ]
    },
    {
      "cell_type": "code",
      "metadata": {
        "id": "FW9HgD6gABhS"
      },
      "source": [
        "test_polygon()"
      ],
      "execution_count": 9,
      "outputs": []
    },
    {
      "cell_type": "code",
      "metadata": {
        "id": "_fTqvK2PVPmm"
      },
      "source": [
        ""
      ],
      "execution_count": null,
      "outputs": []
    }
  ]
}